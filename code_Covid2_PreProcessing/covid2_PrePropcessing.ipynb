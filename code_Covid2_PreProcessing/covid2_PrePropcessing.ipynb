{
  "nbformat": 4,
  "nbformat_minor": 0,
  "metadata": {
    "colab": {
      "private_outputs": true,
      "provenance": []
    },
    "kernelspec": {
      "name": "python3",
      "display_name": "Python 3"
    },
    "language_info": {
      "name": "python"
    }
  },
  "cells": [
    {
      "cell_type": "code",
      "execution_count": null,
      "metadata": {
        "id": "z-pSnHuN6l7a"
      },
      "outputs": [],
      "source": [
        "from google.colab import userdata\n",
        "# Get the Google API key from Colab's user data / Obtém a chave da API do Google dos dados do usuário do Colab\n",
        "userdata.get('GOOGLE_API_KEY_1')"
      ]
    },
    {
      "cell_type": "code",
      "source": [
        "# Import the pandas library for data manipulation / Importa a biblioteca pandas para manipulação de dados\n",
        "import pandas as pd"
      ],
      "metadata": {
        "id": "JPGQc_Gd7aUP"
      },
      "execution_count": null,
      "outputs": []
    },
    {
      "cell_type": "code",
      "source": [
        "# Load the data from the csv file into a pandas DataFrame / Carrega os dados do arquivo csv em um DataFrame pandas\n",
        "import pandas as pd\n",
        "df = pd.read_csv('/content/covid2.csv')\n",
        "# Display the first few rows of the DataFrame / Exibe as primeiras linhas do DataFrame\n",
        "display(df)"
      ],
      "metadata": {
        "id": "hK2msFdL7CeO"
      },
      "execution_count": null,
      "outputs": []
    },
    {
      "cell_type": "code",
      "source": [
        "# Delete the 'Unnamed: 0' column from the DataFrame / Exclui a coluna 'Unnamed: 0' do DataFrame\n",
        "del df['Unnamed: 0']"
      ],
      "metadata": {
        "id": "JvTPPCRd7iSj"
      },
      "execution_count": null,
      "outputs": []
    },
    {
      "cell_type": "code",
      "source": [
        "# Generate descriptive statistics of the DataFrame / Gera estatísticas descritivas do DataFrame\n",
        "# This provides a summary of central tendency, dispersion, and shape of the dataset's distribution.\n",
        "df.describe()"
      ],
      "metadata": {
        "id": "YOR5Zqii7diO"
      },
      "execution_count": null,
      "outputs": []
    },
    {
      "cell_type": "code",
      "source": [
        "# Count the occurrences of each unique value in the 'uf' column / Conta as ocorrências de cada valor único na coluna 'uf'\n",
        "df['uf'].value_counts()"
      ],
      "metadata": {
        "id": "bIJL59i_8LDm"
      },
      "execution_count": null,
      "outputs": []
    },
    {
      "cell_type": "code",
      "source": [
        "# Convert the 'uf' column to uppercase to standardize entries / Converte a coluna 'uf' para maiúsculas para padronizar as entradas\n",
        "df['uf'] = df['uf'].str.upper()\n",
        "# Display the counts of unique values in the 'uf' column after conversion / Exibe as contagens de valores únicos na coluna 'uf' após a conversão\n",
        "df.uf.value_counts()"
      ],
      "metadata": {
        "id": "TBMr0gds8qj6"
      },
      "execution_count": null,
      "outputs": []
    },
    {
      "cell_type": "code",
      "source": [
        "# Another way to convert the 'uf' column to uppercase and count values / Outra forma de converter a coluna 'uf' para maiúsculas e contar valores\n",
        "df.uf = df.uf.str.upper()\n",
        "df.uf.value_counts()"
      ],
      "metadata": {
        "id": "Lqq-2MMo9Nsh"
      },
      "execution_count": null,
      "outputs": []
    },
    {
      "cell_type": "code",
      "source": [],
      "metadata": {
        "id": "01p8q9HO-VX2"
      },
      "execution_count": null,
      "outputs": []
    },
    {
      "cell_type": "code",
      "source": [
        "# Check for missing values across the DataFrame, represented as True / Verifica se há valores ausentes no DataFrame, representados por True\n",
        "print(df.isna())"
      ],
      "metadata": {
        "id": "ZcXq_ept95Fp"
      },
      "execution_count": null,
      "outputs": []
    },
    {
      "cell_type": "code",
      "source": [
        "# Fill missing values in the 'idade' column with the number 18 / Preenche Dados Faltantes na coluna 'idade' com o número 18\n",
        "# Note: This does not modify the DataFrame in place.\n",
        "df.idade.fillna(18)"
      ],
      "metadata": {
        "id": "XohmmP8z-rAp"
      },
      "execution_count": null,
      "outputs": []
    },
    {
      "cell_type": "code",
      "source": [
        "# Fill missing values in the 'idade' column with the string 'Missing' / Preenche Dados Faltantes na coluna 'idade' com a string 'Missing'\n",
        "# Note: This changes the data type of the column to object and does not modify the DataFrame in place.\n",
        "df.idade.fillna('Missing')"
      ],
      "metadata": {
        "id": "KpDW27DI_QX9"
      },
      "execution_count": null,
      "outputs": []
    },
    {
      "cell_type": "code",
      "source": [
        "# Fill missing values in the 'idade' column with the mean of the column / Preenche Dados Faltantes na coluna 'idade' com a média da coluna\n",
        "# Note: This does not modify the DataFrame in place.\n",
        "df.idade.fillna(df.idade.mean())"
      ],
      "metadata": {
        "id": "y7cQcNHZ_szX"
      },
      "execution_count": null,
      "outputs": []
    },
    {
      "cell_type": "code",
      "source": [
        "# Fill missing values in the 'idade' column with the median of the column / Preenche Dados Faltantes na coluna 'idade' com a mediana da coluna\n",
        "# This method replaces NaN values with the median, which is less affected by outliers than the mean.\n",
        "# Note: This does not modify the DataFrame in place.\n",
        "df.idade.fillna(df.idade.median())"
      ],
      "metadata": {
        "id": "M6dQvDN3_0xM"
      },
      "execution_count": null,
      "outputs": []
    },
    {
      "cell_type": "code",
      "source": [
        "# Fill missing values in the 'uf' column with the next valid observation (backward fill) / Preenche Dados Faltantes na coluna 'uf' com a próxima observação válida (preenchimento para trás)\n",
        "# The 'inplace=True' argument modifies the DataFrame directly.\n",
        "df.uf.fillna(method= 'bfill', inplace = True)\n",
        "# Display the DataFrame after filling missing 'uf' values / Exibe o DataFrame após preencher os valores ausentes em 'uf'\n",
        "df"
      ],
      "metadata": {
        "id": "I48X_PfLB24A"
      },
      "execution_count": null,
      "outputs": []
    }
  ]
}